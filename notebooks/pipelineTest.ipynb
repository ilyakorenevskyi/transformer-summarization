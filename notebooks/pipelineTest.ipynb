{
 "cells": [
  {
   "metadata": {},
   "cell_type": "markdown",
   "source": "Testing pipelines form trained models",
   "id": "5afc7e8c3027323b"
  },
  {
   "cell_type": "code",
   "id": "initial_id",
   "metadata": {
    "collapsed": true,
    "ExecuteTime": {
     "end_time": "2024-05-10T15:08:11.907194Z",
     "start_time": "2024-05-10T15:08:03.345444Z"
    }
   },
   "source": [
    "from transformers import pipeline, AutoTokenizer, BartForConditionalGeneration\n",
    "import torch"
   ],
   "outputs": [],
   "execution_count": 1
  },
  {
   "metadata": {
    "ExecuteTime": {
     "end_time": "2024-05-10T15:08:11.922411Z",
     "start_time": "2024-05-10T15:08:11.908194Z"
    }
   },
   "cell_type": "code",
   "source": [
    "def bytes_to_gigabytes(bytes):\n",
    "  return bytes / 1024 / 1024 / 1024"
   ],
   "id": "9c1f78e9018103bd",
   "outputs": [],
   "execution_count": 2
  },
  {
   "metadata": {
    "ExecuteTime": {
     "end_time": "2024-05-10T15:08:11.985437Z",
     "start_time": "2024-05-10T15:08:11.923413Z"
    }
   },
   "cell_type": "code",
   "source": [
    "print(bytes_to_gigabytes(torch.cuda.max_memory_allocated()))\n",
    "torch.cuda.reset_peak_memory_stats()"
   ],
   "id": "e1de4473bfc7c01c",
   "outputs": [
    {
     "name": "stdout",
     "output_type": "stream",
     "text": [
      "0.0\n"
     ]
    }
   ],
   "execution_count": 3
  },
  {
   "metadata": {
    "ExecuteTime": {
     "end_time": "2024-05-10T15:08:13.411174Z",
     "start_time": "2024-05-10T15:08:11.986436Z"
    }
   },
   "cell_type": "code",
   "source": [
    "model_name = \"./models/trained_BART_EN\"\n",
    "#token_model = \"./models/trained_BART_EN\"\n",
    "model = BartForConditionalGeneration.from_pretrained(model_name)\n",
    "tokenizer = AutoTokenizer.from_pretrained(model_name)\n",
    "pipeline = pipeline(\"summarization\", model=model, tokenizer=tokenizer, max_new_tokens = 100, device=0)"
   ],
   "id": "901e2c1e24502e53",
   "outputs": [],
   "execution_count": 4
  },
  {
   "metadata": {
    "ExecuteTime": {
     "end_time": "2024-05-10T15:08:17.062769Z",
     "start_time": "2024-05-10T15:08:17.053239Z"
    }
   },
   "cell_type": "code",
   "source": "print(bytes_to_gigabytes(torch.cuda.max_memory_allocated()))",
   "id": "77fbb1d8a24376fe",
   "outputs": [
    {
     "name": "stdout",
     "output_type": "stream",
     "text": [
      "0.5202908515930176\n"
     ]
    }
   ],
   "execution_count": 5
  },
  {
   "metadata": {
    "jupyter": {
     "is_executing": true
    },
    "ExecuteTime": {
     "start_time": "2024-05-08T10:50:25.161902Z"
    }
   },
   "cell_type": "code",
   "source": "#LLaMApipeline = pipeline(\"text-generation\", model=\"meta-llama/Meta-Llama-3-8B\", device=0)",
   "id": "b2b0b3d8cb4c0f35",
   "outputs": [
    {
     "data": {
      "text/plain": [
       "Downloading shards:   0%|          | 0/4 [00:00<?, ?it/s]"
      ],
      "application/vnd.jupyter.widget-view+json": {
       "version_major": 2,
       "version_minor": 0,
       "model_id": "c9f9dccaaf164a1598500646dce8bd54"
      }
     },
     "metadata": {},
     "output_type": "display_data"
    },
    {
     "data": {
      "text/plain": [
       "model-00001-of-00004.safetensors:   0%|          | 0.00/4.98G [00:00<?, ?B/s]"
      ],
      "application/vnd.jupyter.widget-view+json": {
       "version_major": 2,
       "version_minor": 0,
       "model_id": "68d77005ea1448cfb49cb0fbbdf8d2ab"
      }
     },
     "metadata": {},
     "output_type": "display_data"
    },
    {
     "data": {
      "text/plain": [
       "model-00002-of-00004.safetensors:   0%|          | 0.00/5.00G [00:00<?, ?B/s]"
      ],
      "application/vnd.jupyter.widget-view+json": {
       "version_major": 2,
       "version_minor": 0,
       "model_id": "b6a9c82f18f943bf96d56650d8ceb1c9"
      }
     },
     "metadata": {},
     "output_type": "display_data"
    },
    {
     "data": {
      "text/plain": [
       "model-00003-of-00004.safetensors:   0%|          | 0.00/4.92G [00:00<?, ?B/s]"
      ],
      "application/vnd.jupyter.widget-view+json": {
       "version_major": 2,
       "version_minor": 0,
       "model_id": "94e654775feb4ac08ecc40f1e57d9f83"
      }
     },
     "metadata": {},
     "output_type": "display_data"
    },
    {
     "data": {
      "text/plain": [
       "model-00004-of-00004.safetensors:   0%|          | 0.00/1.17G [00:00<?, ?B/s]"
      ],
      "application/vnd.jupyter.widget-view+json": {
       "version_major": 2,
       "version_minor": 0,
       "model_id": "88a61520bbd6463180c664228331cc51"
      }
     },
     "metadata": {},
     "output_type": "display_data"
    }
   ],
   "execution_count": null
  },
  {
   "metadata": {
    "ExecuteTime": {
     "end_time": "2024-05-10T15:08:19.722362Z",
     "start_time": "2024-05-10T15:08:18.467642Z"
    }
   },
   "cell_type": "code",
   "source": "pipeline(\"Summarize: Anne Hathaway first shared she lost interest in drinking after a bad hangover in 2018. She’s now five years sober. Hathaway first shared her decision to skip alcohol during an appearance on the “Ellen De Generes Show,” explaining at the time she wanted to be fully available and present to her young son. In a new interview with The New York Times, Hathaway reflected on her health and being in her forties. “There are so many other things I identify as milestones. I don’t normally talk about it, but I am over five years sober,” she told The New York Times in a recent interview. “That feels like a milestone to me. Forty feels like a gift. The fact of the matter is I hesitate at calling things “middle age” simply because I can be a semantic stickler and I could get hit by a car later today. We don’t know if this is middle age. We don’t know anything.”\")",
   "id": "18cec95de00dfad0",
   "outputs": [
    {
     "name": "stderr",
     "output_type": "stream",
     "text": [
      "D:\\Programming\\Projects\\transformerModels\\.venv\\lib\\site-packages\\transformers\\models\\bart\\modeling_bart.py:590: UserWarning: 1Torch was not compiled with flash attention. (Triggered internally at C:\\actions-runner\\_work\\pytorch\\pytorch\\builder\\windows\\pytorch\\aten\\src\\ATen\\native\\transformers\\cuda\\sdp_utils.cpp:263.)\n",
      "  attn_output = torch.nn.functional.scaled_dot_product_attention(\n"
     ]
    },
    {
     "data": {
      "text/plain": [
       "[{'summary_text': 'Anne Hathaway first shared her decision to skip alcohol during an appearance on the “Ellen De Generes Show”\\nIn a new interview with The New York Times, Hathaway reflected on her health and being in her forties .\\n“That feels like a milestone to me. Forty feels'}]"
      ]
     },
     "execution_count": 6,
     "metadata": {},
     "output_type": "execute_result"
    }
   ],
   "execution_count": 6
  },
  {
   "metadata": {
    "ExecuteTime": {
     "end_time": "2024-05-10T15:08:52.701309Z",
     "start_time": "2024-05-10T15:08:52.691800Z"
    }
   },
   "cell_type": "code",
   "source": "print(bytes_to_gigabytes(torch.cuda.max_memory_allocated()))",
   "id": "f8b785e477dc15b2",
   "outputs": [
    {
     "name": "stdout",
     "output_type": "stream",
     "text": [
      "0.5899519920349121\n"
     ]
    }
   ],
   "execution_count": 7
  }
 ],
 "metadata": {
  "kernelspec": {
   "display_name": "Python 3",
   "language": "python",
   "name": "python3"
  },
  "language_info": {
   "codemirror_mode": {
    "name": "ipython",
    "version": 2
   },
   "file_extension": ".py",
   "mimetype": "text/x-python",
   "name": "python",
   "nbconvert_exporter": "python",
   "pygments_lexer": "ipython2",
   "version": "2.7.6"
  }
 },
 "nbformat": 4,
 "nbformat_minor": 5
}
